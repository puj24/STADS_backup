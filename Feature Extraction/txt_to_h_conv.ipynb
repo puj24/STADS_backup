{
 "cells": [
  {
   "cell_type": "code",
   "execution_count": 5,
   "id": "3331fae4-fb15-438e-a623-1ff8877298c9",
   "metadata": {},
   "outputs": [],
   "source": [
    "import numpy as np\n",
    "import pandas as pd\n",
    "# https://stackoverflow.com/questions/41497432/python-jupyter-shortcut-to-copy-output-of-a-cell"
   ]
  },
  {
   "cell_type": "code",
   "execution_count": 6,
   "id": "61831a2a-2e28-4a37-87d8-4b7a08bed709",
   "metadata": {},
   "outputs": [],
   "source": [
    "# Place all the input images in txt format (exported from Matlab) \n",
    "# with end of line delimiter '\\n' and word delimiter ',' in directory\n",
    "# '/inputstxt' with format 'Image_i' where i denotes the image number.\n",
    "\n",
    "# Enter the breadth and length of each image and total number of images\n",
    "# in the following cell. \n",
    "\n",
    "# Output files will be saved at '/inputsh/Image_i' where i denotes the\n",
    "# corresponding image number to the input"
   ]
  },
  {
   "cell_type": "code",
   "execution_count": 7,
   "id": "f4ce5d7a-c589-4405-b92b-bff26c3eac94",
   "metadata": {
    "tags": []
   },
   "outputs": [],
   "source": [
    "BREADTH = 1024\n",
    "LENGTH = 1280\n",
    "tot_img = 15"
   ]
  },
  {
   "cell_type": "code",
   "execution_count": 8,
   "id": "ce846a8e-5ae2-496a-832b-ae4c5ed8f6cd",
   "metadata": {},
   "outputs": [],
   "source": [
    "infilename = 'inputstxt/Image_'\n",
    "outfilename = 'inputs_h/Image_'"
   ]
  },
  {
   "cell_type": "code",
   "execution_count": 9,
   "id": "9bfca2d9-139b-4e5a-b6e5-42dff55b75dc",
   "metadata": {},
   "outputs": [],
   "source": [
    "def insert_comma(string, index):\n",
    "    return string[:index] + ',' + string[index:]"
   ]
  },
  {
   "cell_type": "code",
   "execution_count": 10,
   "id": "53da07d3-4955-48b5-ab1e-366aab77a139",
   "metadata": {},
   "outputs": [
    {
     "name": "stdout",
     "output_type": "stream",
     "text": [
      "Image:  1\n",
      "2622202\n",
      " \n",
      "Image:  2\n",
      "2621932\n",
      " \n",
      "Image:  3\n",
      "2621870\n",
      " \n",
      "Image:  4\n",
      "2621943\n",
      " \n",
      "Image:  5\n",
      "2621845\n",
      " \n",
      "Image:  6\n",
      "2621794\n",
      " \n",
      "Image:  7\n",
      "2621960\n",
      " \n",
      "Image:  8\n",
      "2621764\n",
      " \n",
      "Image:  9\n",
      "2621688\n",
      " \n",
      "Image:  10\n",
      "2621895\n",
      " \n",
      "Image:  11\n",
      "2621965\n",
      " \n",
      "Image:  12\n",
      "2621750\n",
      " \n",
      "Image:  13\n",
      "2622100\n",
      " \n",
      "Image:  14\n",
      "2621685\n",
      " \n",
      "Image:  15\n",
      "2621834\n",
      " \n"
     ]
    }
   ],
   "source": [
    "for j in range(1, tot_img + 1):\n",
    "\n",
    "    img_num = j\n",
    "\n",
    "    f = open(infilename + str(img_num) + \".txt\", \"r\")\n",
    "    instr = f.read()\n",
    "    f.close()\n",
    "    print('Image: ', j)\n",
    "    print(len(instr))\n",
    "    print(' ')\n",
    "\n",
    "    g = open(outfilename + str(img_num) + \".h\", \"w\")\n",
    "\n",
    "    modstr = instr\n",
    "    for i in range(len(modstr)):\n",
    "        if modstr[i] == '\\n':\n",
    "            modstr = insert_comma(modstr, i+1)\n",
    "            i += 2*(LENGTH - 30)\n",
    "    modstr2 = 'unsigned short int arr_image[' + str(BREADTH) + '][' + str(LENGTH) + '] = {' + modstr + '};'\n",
    "\n",
    "    g.write(modstr2)\n",
    "    g.close()"
   ]
  }
 ],
 "metadata": {
  "kernelspec": {
   "display_name": "Python 3 (ipykernel)",
   "language": "python",
   "name": "python3"
  },
  "language_info": {
   "codemirror_mode": {
    "name": "ipython",
    "version": 3
   },
   "file_extension": ".py",
   "mimetype": "text/x-python",
   "name": "python",
   "nbconvert_exporter": "python",
   "pygments_lexer": "ipython3",
   "version": "3.9.5"
  }
 },
 "nbformat": 4,
 "nbformat_minor": 5
}
